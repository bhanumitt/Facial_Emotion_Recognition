{
 "cells": [
  {
   "cell_type": "code",
   "execution_count": 1,
   "metadata": {
    "_cell_guid": "b1076dfc-b9ad-4769-8c92-a6c4dae69d19",
    "_uuid": "8f2839f25d086af736a60e9eeb907d3b93b6e0e5"
   },
   "outputs": [],
   "source": [
    "import pandas as pd\n",
    "\n",
    "data = pd.read_csv('../input/facial-emotion-dataset/data/legend.csv', header=0)\n",
    "data = data.drop(['user.id'], axis=1)"
   ]
  },
  {
   "cell_type": "code",
   "execution_count": 2,
   "metadata": {},
   "outputs": [],
   "source": [
    "import cv2\n",
    "import os\n",
    "\n",
    "IMG_SIZE = 120\n",
    "path = '../input/facial-emotion-dataset/images'\n",
    "\n",
    "images = []\n",
    "for i in range(len(data['image'])): \n",
    "    img_array = cv2.imread(os.path.join(path, data['image'][i]))\n",
    "    resized_array = cv2.resize(img_array, (IMG_SIZE, IMG_SIZE))\n",
    "    images.append([resized_array, data['emotion'][i]])"
   ]
  },
  {
   "cell_type": "code",
   "execution_count": 3,
   "metadata": {},
   "outputs": [],
   "source": [
    "import random\n",
    "\n",
    "random.shuffle(images)"
   ]
  },
  {
   "cell_type": "code",
   "execution_count": 4,
   "metadata": {},
   "outputs": [],
   "source": [
    "import numpy as np\n",
    "\n",
    "X_data = []\n",
    "y_data = []\n",
    "\n",
    "for features, label in images:\n",
    "    X_data.append(features)\n",
    "    y_data.append(label)\n",
    "\n",
    "X_data = np.asarray(X_data).astype(np.float32)"
   ]
  },
  {
   "cell_type": "code",
   "execution_count": 5,
   "metadata": {},
   "outputs": [],
   "source": [
    "from tensorflow.keras.utils import normalize\n",
    "\n",
    "X_data = X_data/255.0\n",
    "y_data = pd.get_dummies(y_data)"
   ]
  },
  {
   "cell_type": "code",
   "execution_count": 6,
   "metadata": {},
   "outputs": [
    {
     "name": "stdout",
     "output_type": "stream",
     "text": [
      "Train on 12321 samples, validate on 1369 samples\n",
      "Epoch 1/15\n",
      "12321/12321 [==============================] - 21s 2ms/sample - loss: 1.3449 - accuracy: 0.4487 - val_loss: 1.0517 - val_accuracy: 0.5201\n",
      "Epoch 2/15\n",
      "12321/12321 [==============================] - 15s 1ms/sample - loss: 1.1164 - accuracy: 0.5276 - val_loss: 0.7897 - val_accuracy: 0.7473\n",
      "Epoch 3/15\n",
      "12321/12321 [==============================] - 15s 1ms/sample - loss: 0.8222 - accuracy: 0.7356 - val_loss: 0.6150 - val_accuracy: 0.8020\n",
      "Epoch 4/15\n",
      "12321/12321 [==============================] - 15s 1ms/sample - loss: 0.6846 - accuracy: 0.7859 - val_loss: 0.5832 - val_accuracy: 0.8050\n",
      "Epoch 5/15\n",
      "12321/12321 [==============================] - 15s 1ms/sample - loss: 0.6337 - accuracy: 0.7969 - val_loss: 0.5443 - val_accuracy: 0.8262\n",
      "Epoch 6/15\n",
      "12321/12321 [==============================] - 15s 1ms/sample - loss: 0.5868 - accuracy: 0.8150 - val_loss: 0.5081 - val_accuracy: 0.8356\n",
      "Epoch 7/15\n",
      "12321/12321 [==============================] - 15s 1ms/sample - loss: 0.5524 - accuracy: 0.8214 - val_loss: 0.4842 - val_accuracy: 0.8444\n",
      "Epoch 8/15\n",
      "12321/12321 [==============================] - 15s 1ms/sample - loss: 0.5072 - accuracy: 0.8342 - val_loss: 0.4821 - val_accuracy: 0.8532\n",
      "Epoch 9/15\n",
      "12321/12321 [==============================] - 15s 1ms/sample - loss: 0.4883 - accuracy: 0.8395 - val_loss: 0.4598 - val_accuracy: 0.8554\n",
      "Epoch 10/15\n",
      "12321/12321 [==============================] - 15s 1ms/sample - loss: 0.4544 - accuracy: 0.8533 - val_loss: 0.4506 - val_accuracy: 0.8634\n",
      "Epoch 11/15\n",
      "12321/12321 [==============================] - 15s 1ms/sample - loss: 0.4280 - accuracy: 0.8598 - val_loss: 0.4445 - val_accuracy: 0.8641\n",
      "Epoch 12/15\n",
      "12321/12321 [==============================] - 15s 1ms/sample - loss: 0.4079 - accuracy: 0.8640 - val_loss: 0.4657 - val_accuracy: 0.8605\n",
      "Epoch 13/15\n",
      "12321/12321 [==============================] - 15s 1ms/sample - loss: 0.3795 - accuracy: 0.8751 - val_loss: 0.4541 - val_accuracy: 0.8619\n",
      "Epoch 14/15\n",
      "12321/12321 [==============================] - 15s 1ms/sample - loss: 0.3635 - accuracy: 0.8805 - val_loss: 0.4529 - val_accuracy: 0.8736\n",
      "Epoch 15/15\n",
      "12321/12321 [==============================] - 15s 1ms/sample - loss: 0.3415 - accuracy: 0.8836 - val_loss: 0.4482 - val_accuracy: 0.8685\n"
     ]
    },
    {
     "data": {
      "text/plain": [
       "<tensorflow.python.keras.callbacks.History at 0x7fe08014bc50>"
      ]
     },
     "execution_count": 6,
     "metadata": {},
     "output_type": "execute_result"
    }
   ],
   "source": [
    "from tensorflow.keras import optimizers\n",
    "from tensorflow.keras.layers import Dense, Conv2D, Flatten, Dropout, MaxPooling2D\n",
    "from tensorflow.keras.models import Sequential\n",
    "\n",
    "opt = optimizers.Adam(learning_rate=0.0001)\n",
    "\n",
    "model = Sequential()\n",
    "\n",
    "model.add(Conv2D(128, kernel_size=5, activation='relu', input_shape=X_data.shape[1:]))\n",
    "model.add(MaxPooling2D(pool_size=(2, 2)))\n",
    "\n",
    "model.add(Conv2D(256, kernel_size=5, activation='relu'))\n",
    "model.add(MaxPooling2D(pool_size=(2, 2)))\n",
    "\n",
    "model.add(Conv2D(256, kernel_size=5, activation='relu'))\n",
    "model.add(MaxPooling2D(pool_size=(2, 2)))\n",
    "\n",
    "model.add(Flatten())\n",
    "\n",
    "model.add(Dense(500, activation='relu'))\n",
    "model.add(Dropout(0.5))\n",
    "\n",
    "model.add(Dense(250, activation='relu'))\n",
    "model.add(Dropout(0.5))\n",
    "\n",
    "model.add(Dense(15, activation='softmax'))\n",
    "\n",
    "model.compile(optimizer=opt, loss='categorical_crossentropy', metrics=['accuracy'])\n",
    "model.fit(X_data, y_data, validation_split=0.1, epochs=15, batch_size=100)"
   ]
  }
 ],
 "metadata": {
  "kernelspec": {
   "display_name": "Python 3",
   "language": "python",
   "name": "python3"
  },
  "language_info": {
   "codemirror_mode": {
    "name": "ipython",
    "version": 3
   },
   "file_extension": ".py",
   "mimetype": "text/x-python",
   "name": "python",
   "nbconvert_exporter": "python",
   "pygments_lexer": "ipython3",
   "version": "3.6.6"
  }
 },
 "nbformat": 4,
 "nbformat_minor": 4
}
